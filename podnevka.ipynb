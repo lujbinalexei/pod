{
 "cells": [
  {
   "cell_type": "code",
   "execution_count": 157,
   "metadata": {},
   "outputs": [],
   "source": [
    "import warnings\n",
    "warnings.filterwarnings('ignore')\n",
    "import pandas as pd\n",
    "from glob import glob\n",
    "import matplotlib.pyplot as plt\n",
    "\n",
    "path_opr = r'C:\\Users\\Alexei\\Desktop\\Works\\analytics\\opr\\data'\n",
    "path_pdn = r'C:\\Users\\Alexei\\Desktop\\podnevka'"
   ]
  },
  {
   "cell_type": "code",
   "execution_count": 115,
   "metadata": {},
   "outputs": [
    {
     "name": "stdout",
     "output_type": "stream",
     "text": [
      "Найдено файлов для обработки: 7\n"
     ]
    }
   ],
   "source": [
    "f = glob(path_opr + '\\\\' + '*.csv')\n",
    "opr = [i for i in f if 'opr_' in i]\n",
    "\n",
    "print('Найдено файлов для обработки: {}'.format(len(opr)))"
   ]
  },
  {
   "cell_type": "code",
   "execution_count": 123,
   "metadata": {},
   "outputs": [
    {
     "name": "stdout",
     "output_type": "stream",
     "text": [
      "Кол-во строк в консолидированном отчете по операциям: 235493\n"
     ]
    }
   ],
   "source": [
    "columns = ['Вид', 'Клиент', 'Дог.', 'Сумма', 'Дата выполнения', 'Тип продукта']\n",
    "\n",
    "df = pd.read_csv(opr[0], sep = ';', encoding = 'cp1251', decimal = b',', dtype = {'Сумма': 'float'})\n",
    "df = df.reindex(columns = columns)\n",
    "\n",
    "for i in range(1, len(opr)):\n",
    "    tmp = pd.read_csv(opr[i], sep = ';', encoding = 'cp1251', decimal = b',', dtype = {'Сумма': 'float'})\n",
    "    tmp = tmp.reindex(columns = columns)\n",
    "    df  = df.append(tmp, ignore_index = True)\n",
    "    \n",
    "df.drop_duplicates(inplace = True)\n",
    "df.dropna(inplace = True)\n",
    "\n",
    "df = df[df['Тип продукта'] != 'auto-lombard']\n",
    "df.drop('Тип продукта', axis = 1, inplace = True)\n",
    "\n",
    "df['on_off'] = list(map(lambda x: '/ON/' in x, df['Дог.']))\n",
    "df = df[df['on_off'] == True]\n",
    "df.drop('on_off', axis = 1, inplace = True)\n",
    "\n",
    "df['Дата выполнения'] = list(map(lambda x: pd.to_datetime(x.split(' ')[0], dayfirst = True), df['Дата выполнения']))\n",
    "\n",
    "print('Кол-во строк в консолидированном отчете по операциям: {}'.format(df.shape[0]))"
   ]
  },
  {
   "cell_type": "code",
   "execution_count": 179,
   "metadata": {},
   "outputs": [],
   "source": [
    "df_v = df[['Дог.', 'Дата выполнения']][df['Вид'] == 'Выдача займа']\n",
    "df_v = df_v[df_v['Дата выполнения'] < '2019-07-01']\n",
    "df_p = df[df['Вид'] == 'Разноска']"
   ]
  },
  {
   "cell_type": "code",
   "execution_count": 180,
   "metadata": {},
   "outputs": [],
   "source": [
    "df_pv = pd.merge(left = df_p, right = df_v, how = 'left', on = 'Дог.', validate = 'many_to_one')\n",
    "df_pv = df_pv[pd.isnull(df_pv['Дата выполнения_y']) == False]"
   ]
  },
  {
   "cell_type": "code",
   "execution_count": 181,
   "metadata": {},
   "outputs": [],
   "source": [
    "df_pv['Кол-во дней'] = df_pv['Дата выполнения_x'] - df_pv['Дата выполнения_y']\n",
    "df_pv['Кол-во дней'] = list(map(lambda x: x.days, df_pv['Кол-во дней']))"
   ]
  },
  {
   "cell_type": "code",
   "execution_count": 182,
   "metadata": {},
   "outputs": [],
   "source": [
    "df_pv = df_pv[(df_pv['Кол-во дней'] != 0) & (df_pv['Кол-во дней'] < 51)]"
   ]
  },
  {
   "cell_type": "code",
   "execution_count": 183,
   "metadata": {},
   "outputs": [],
   "source": [
    "days = sorted(set(df_pv['Кол-во дней']))\n",
    "summa = sum(df_pv['Сумма'])\n",
    "frac = []\n",
    "for i in days:\n",
    "    sum(df_pv[df_pv['Кол-во дней'] == i]['Сумма']) / summa\n",
    "    frac.append(round(100 * sum(df_pv[df_pv['Кол-во дней'] == i]['Сумма']) / summa, 2))"
   ]
  },
  {
   "cell_type": "code",
   "execution_count": 191,
   "metadata": {},
   "outputs": [
    {
     "data": {
      "image/png": "[encoded data removed]",
      "text/plain": [
       "<Figure size 1080x360 with 1 Axes>"
      ]
     },
     "metadata": {},
     "output_type": "display_data"
    }
   ],
   "source": [
    "plt.figure(figsize = (15, 5))\n",
    "plt.bar(days, frac)\n",
    "plt.grid(axis = 'y')\n",
    "plt.xticks(days)\n",
    "plt.ylabel('%')\n",
    "plt.xlabel('Дни')\n",
    "plt.title('Распределение сумм платежей в течение срока обслуживания займа\\n(в совокупности - 100%)')\n",
    "plt.show()"
   ]
  },
  {
   "cell_type": "code",
   "execution_count": null,
   "metadata": {},
   "outputs": [],
   "source": []
  }
 ],
 "metadata": {
  "kernelspec": {
   "display_name": "Python 3",
   "language": "python",
   "name": "python3"
  },
  "language_info": {
   "codemirror_mode": {
    "name": "ipython",
    "version": 3
   },
   "file_extension": ".py",
   "mimetype": "text/x-python",
   "name": "python",
   "nbconvert_exporter": "python",
   "pygments_lexer": "ipython3",
   "version": "3.6.5"
  }
 },
 "nbformat": 4,
 "nbformat_minor": 2
}
